{
 "cells": [
  {
   "cell_type": "code",
   "execution_count": null,
   "metadata": {
    "collapsed": true
   },
   "outputs": [],
   "source": [
    "from py_git_log_analyzer.core import data_flame_under\n",
    "import os\n",
    "import pandas as pd\n",
    "import matplotlib\n",
    "import matplotlib.pyplot as plt\n",
    "import seaborn as sns"
   ]
  },
  {
   "cell_type": "code",
   "execution_count": null,
   "metadata": {},
   "outputs": [],
   "source": [
    "path = r\"your/repos/path\"\n",
    "\n",
    "df = data_flame_under(path)\n",
    "df.head(5)"
   ]
  },
  {
   "cell_type": "code",
   "execution_count": null,
   "metadata": {},
   "outputs": [],
   "source": [
    "df.describe()"
   ]
  },
  {
   "cell_type": "code",
   "execution_count": null,
   "metadata": {},
   "outputs": [],
   "source": [
    "author_rename_dict = {\n",
    "    'John Doe': 'John',\n",
    "    'J.Doe': 'John',\n",
    "    'J.D': 'John',\n",
    "    'John.D': 'John',\n",
    "    'Jane.D': 'Jane',\n",
    "}\n",
    "\n",
    "df.replace(author_rename_dict, inplace=True, regex=True)\n",
    "df.author.unique()"
   ]
  },
  {
   "cell_type": "code",
   "execution_count": null,
   "metadata": {},
   "outputs": [],
   "source": [
    "name_list = [\n",
    "    'John', \n",
    "    'Jane', \n",
    "]\n",
    " \n",
    "df_list = []\n",
    "for name in name_list:\n",
    "    df_list.append(df[df['author'] == name])\n",
    "    \n",
    "merged__df = pd.concat(df_list)\n",
    "\n",
    "# summary_data = merged__df.groupby(['year', \"quarter\", 'author']).sum()['total_line_count'].unstack().fillna(0)\n",
    "summary_data = merged__df.groupby(['year', \"month\"]).sum()['total_line_count'].unstack().fillna(0)\n",
    "\n",
    "summary_data"
   ]
  },
  {
   "cell_type": "code",
   "execution_count": null,
   "metadata": {},
   "outputs": [],
   "source": [
    "from tabulate import tabulate\n",
    "\n",
    "summary_data = merged__df.groupby(['year', \"month\"]).sum()['total_line_count'].unstack().fillna(0)\n",
    "print(tabulate(summary_data, headers=['yaar/month', '1', '2', '3', '4', '5', '6', '7', '8', '9', '10', '11', '12'], tablefmt=\"orgtbl\"))"
   ]
  },
  {
   "cell_type": "code",
   "execution_count": null,
   "metadata": {},
   "outputs": [],
   "source": [
    "# plt.figure()\n",
    "\n",
    "sns.set()\n",
    "summary_data = merged__df.groupby(['year', \"month\", \"author\"]).sum()['total_line_count'].unstack().fillna(0)\n",
    "fig, ax = plt.subplots(figsize=(15, 7))\n",
    "summary_data.plot.bar(ax=ax, stacked=True)\n",
    "\n",
    "\n",
    "# plt.savefig('per_author.png')\n",
    "# plt.close('all')"
   ]
  }
 ],
 "metadata": {
  "kernelspec": {
   "display_name": "Python 2",
   "language": "python",
   "name": "python2"
  },
  "language_info": {
   "codemirror_mode": {
    "name": "ipython",
    "version": 2
   },
   "file_extension": ".py",
   "mimetype": "text/x-python",
   "name": "python",
   "nbconvert_exporter": "python",
   "pygments_lexer": "ipython2",
   "version": "2.7.6"
  }
 },
 "nbformat": 4,
 "nbformat_minor": 0
}
